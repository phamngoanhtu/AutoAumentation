{
  "nbformat": 4,
  "nbformat_minor": 0,
  "metadata": {
    "accelerator": "GPU",
    "colab": {
      "name": "Auto_Augmentation",
      "provenance": [],
      "collapsed_sections": []
    },
    "kernelspec": {
      "display_name": "Python 3",
      "name": "python3"
    },
    "language_info": {
      "name": "python"
    }
  },
  "cells": [
    {
      "cell_type": "code",
      "metadata": {
        "colab": {
          "base_uri": "https://localhost:8080/"
        },
        "id": "T-cj3KYJEB0N",
        "outputId": "150c8d8a-18fb-42f0-ec93-45868639d506"
      },
      "source": [
        "cd /content/drive/MyDrive/Data-Competition-main/AutoAugment"
      ],
      "execution_count": null,
      "outputs": [
        {
          "output_type": "stream",
          "name": "stdout",
          "text": [
            "/content/drive/MyDrive/Data-Competition-main/AutoAugment\n"
          ]
        }
      ]
    },
    {
      "cell_type": "code",
      "metadata": {
        "id": "djoXbodJOpu9"
      },
      "source": [
        "from PIL import Image, ImageEnhance, ImageOps\n",
        "import numpy as np\n",
        "import matplotlib.pyplot as plt\n",
        "import math\n",
        "import random\n",
        "import pdb\n",
        "from autoaugment import ImageNetPolicy, CIFAR10Policy, SVHNPolicy, SubPolicy"
      ],
      "execution_count": null,
      "outputs": []
    },
    {
      "cell_type": "code",
      "metadata": {
        "colab": {
          "base_uri": "https://localhost:8080/"
        },
        "id": "ebedGGVVPFmM",
        "outputId": "c22c6472-1250-44aa-ce06-e008a45d1f2f"
      },
      "source": [
        "import PIL\n",
        "print(\"Using Pillow version {}. Upgrade using 'pip install Pillow -U'\".format(PIL.__version__))"
      ],
      "execution_count": null,
      "outputs": [
        {
          "output_type": "stream",
          "name": "stdout",
          "text": [
            "Using Pillow version 7.1.2. Upgrade using 'pip install Pillow -U'\n"
          ]
        }
      ]
    },
    {
      "cell_type": "code",
      "metadata": {
        "id": "GRcwYUrbEcOR"
      },
      "source": [
        "from torch.utils.data import Dataset, DataLoader\n",
        "from torchvision import transforms\n",
        "from torchvision.datasets import ImageFolder\n",
        "\n",
        "data = ImageFolder(\"/content/drive/MyDrive/Data-Competition-main/dataset/images\", transform=transforms.Compose(\n",
        "                        [\n",
        "                         ImageNetPolicy(), \n",
        "                         transforms.ToTensor()]))\n",
        "loader = DataLoader(data, batch_size=1)"
      ],
      "execution_count": null,
      "outputs": []
    },
    {
      "cell_type": "code",
      "metadata": {
        "colab": {
          "base_uri": "https://localhost:8080/"
        },
        "id": "5FrYwWgw9arg",
        "outputId": "fa6d1cf2-ada3-4bdf-ebab-c1d37bc332a9"
      },
      "source": [
        "!!mkdir export"
      ],
      "execution_count": null,
      "outputs": [
        {
          "output_type": "execute_result",
          "data": {
            "text/plain": [
              "[]"
            ]
          },
          "metadata": {},
          "execution_count": 5
        }
      ]
    },
    {
      "cell_type": "code",
      "metadata": {
        "colab": {
          "base_uri": "https://localhost:8080/"
        },
        "id": "Ph10kmMD9oEZ",
        "outputId": "edf9a41c-c338-49f4-d2e0-dd6ba9d46ff6"
      },
      "source": [
        "cd export"
      ],
      "execution_count": null,
      "outputs": [
        {
          "output_type": "stream",
          "name": "stdout",
          "text": [
            "/content/drive/MyDrive/Data-Competition-main/AutoAugment/export\n"
          ]
        }
      ]
    },
    {
      "cell_type": "code",
      "metadata": {
        "colab": {
          "base_uri": "https://localhost:8080/",
          "height": 35
        },
        "id": "SZfVPu6UrwFQ",
        "outputId": "9d90d79f-646b-4c3c-d6de-d7401e26b073"
      },
      "source": [
        "pwd"
      ],
      "execution_count": null,
      "outputs": [
        {
          "output_type": "execute_result",
          "data": {
            "application/vnd.google.colaboratory.intrinsic+json": {
              "type": "string"
            },
            "text/plain": [
              "'/content/drive/MyDrive/Data-Competition-main/AutoAugment/export'"
            ]
          },
          "metadata": {},
          "execution_count": 7
        }
      ]
    },
    {
      "cell_type": "code",
      "metadata": {
        "id": "15IFFxwjEm24"
      },
      "source": [
        "from PIL import Image  \n",
        "import PIL  \n",
        "imgs, count = [], 0\n",
        "count = 0\n",
        "for _ in range(10):\n",
        "    for img in loader:\n",
        "        img = np.transpose(img[0][0].numpy()*255, (1,2,0)).astype(np.uint8)\n",
        "        im = Image.fromarray(img)\n",
        "        im.save(str(count) + \".jpg\")\n",
        "        imgs.append(img)\n",
        "        count += 1"
      ],
      "execution_count": null,
      "outputs": []
    },
    {
      "cell_type": "code",
      "metadata": {
        "id": "Edk0MAoz65fC"
      },
      "source": [
        ""
      ],
      "execution_count": null,
      "outputs": []
    }
  ]
}